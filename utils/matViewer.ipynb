{
 "cells": [
  {
   "cell_type": "code",
   "execution_count": null,
   "metadata": {},
   "outputs": [
    {
     "name": "stdout",
     "output_type": "stream",
     "text": [
      "loading Subject_01.mat\n",
      "loading Subject_02.mat\n",
      "loading Subject_03.mat\n",
      "loading Subject_04.mat\n",
      "loading Subject_05.mat\n",
      "loading Subject_06.mat\n",
      "loading Subject_07.mat\n",
      "loading Subject_08.mat\n",
      "loading Subject_09.mat\n",
      "loading Subject_10.mat\n",
      "all images shape: (496, 768, 61)\n"
     ]
    }
   ],
   "source": [
    "import os\n",
    "import numpy as np\n",
    "import scipy.io as sio\n",
    "from matplotlib import pyplot as plt\n",
    "\n",
    "current_dir = os.getcwd() + \"/../data/2015_BOE_Chiu/\"\n",
    "file_name_array = os.listdir(current_dir)\n",
    "\n",
    "all_images = []\n",
    "for file_name in file_name_array:\n",
    "    if \"mat\" in file_name:\n",
    "        print(\"loading {}\".format(file_name))\n",
    "        mat_data = sio.loadmat(os.path.join(current_dir, file_name))\n",
    "        all_images.append(mat_data[\"images\"])\n",
    "\n",
    "print(\"all images shape: {}\".format(all_images[0].shape))"
   ]
  },
  {
   "cell_type": "code",
   "execution_count": 10,
   "metadata": {},
   "outputs": [
    {
     "data": {
      "application/vnd.jupyter.widget-view+json": {
       "model_id": "62dd2a6eb09c4db8ac1c90ff433d31d3",
       "version_major": 2,
       "version_minor": 0
      },
      "text/plain": [
       "interactive(children=(IntSlider(value=4, description='x', max=9), IntSlider(value=30, description='z', max=60)…"
      ]
     },
     "metadata": {},
     "output_type": "display_data"
    },
    {
     "data": {
      "text/plain": [
       "<function __main__.browse_slices(x, z)>"
      ]
     },
     "execution_count": 10,
     "metadata": {},
     "output_type": "execute_result"
    }
   ],
   "source": [
    "from ipywidgets import interact\n",
    "\n",
    "def browse_slices(x,z):\n",
    "    plt.figure(figsize=(8, 8))\n",
    "    plt.imshow(all_images[x][:, :, z], cmap='gray')\n",
    "    plt.title(f\"Image {x} Slice {z}\")\n",
    "    plt.axis('off')\n",
    "    plt.show()\n",
    "\n",
    "interact(browse_slices,x=(0, 9), z=(0, 60))"
   ]
  }
 ],
 "metadata": {
  "kernelspec": {
   "display_name": "Pytorch",
   "language": "python",
   "name": "python3"
  },
  "language_info": {
   "codemirror_mode": {
    "name": "ipython",
    "version": 3
   },
   "file_extension": ".py",
   "mimetype": "text/x-python",
   "name": "python",
   "nbconvert_exporter": "python",
   "pygments_lexer": "ipython3",
   "version": "3.11.10"
  }
 },
 "nbformat": 4,
 "nbformat_minor": 2
}
